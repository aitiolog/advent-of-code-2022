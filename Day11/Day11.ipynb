{
 "cells": [
  {
   "cell_type": "markdown",
   "id": "76a7b15c-e220-49c2-bac3-6eeb71393967",
   "metadata": {},
   "source": [
    "# Day 11"
   ]
  },
  {
   "cell_type": "markdown",
   "id": "8f1170e9-833c-4c42-aa42-a6f121d02102",
   "metadata": {},
   "source": [
    "## Part 1\n",
    "\n",
    "Each monkey has several attributes:\n",
    "\n",
    "Starting items lists your worry level for each item the monkey is currently holding in the order they will be inspected.\n",
    "Operation shows how your worry level changes as that monkey inspects an item. (An operation like new = old * 5 means that your worry level after the monkey inspected the item is five times whatever your worry level was before inspection.)\n",
    "Test shows how the monkey uses your worry level to decide where to throw an item next.\n",
    "If true shows what happens with an item if the Test was true.\n",
    "If false shows what happens with an item if the Test was false.\n",
    "After each monkey inspects an item but before it tests your worry level, your relief that the monkey's inspection didn't damage the item causes your worry level to be divided by three and rounded down to the nearest integer.\n",
    "\n",
    "The monkeys take turns inspecting and throwing items. On a single monkey's turn, it inspects and throws all of the items it is holding one at a time and in the order listed. Monkey 0 goes first, then monkey 1, and so on until each monkey has had one turn. The process of each monkey taking a single turn is called a round.\n",
    "\n",
    "When a monkey throws an item to another monkey, the item goes on the end of the recipient monkey's list. A monkey that starts a round with no items could end up inspecting and throwing many items by the time its turn comes around. If a monkey is holding no items at the start of its turn, its turn ends.\n",
    "\n",
    "Focus on the two most active monkeys if you want any hope of getting your stuff back. Count the total number of times each monkey inspects items over 20 rounds.\n"
   ]
  },
  {
   "cell_type": "code",
   "execution_count": 1,
   "id": "951ff29a-86d6-4918-a465-a6eb69f936a6",
   "metadata": {},
   "outputs": [],
   "source": [
    "# Libraries\n",
    "\n",
    "import numpy as np\n",
    "import pandas as pd\n",
    "\n",
    "# Read input file\n",
    "all_lines = []\n",
    "\n",
    "with open('input.txt') as file:\n",
    "    all_lines = [line.strip() for line in file]\n",
    "\n",
    "# Add empty string at the end\n",
    "all_lines.append('')\n"
   ]
  },
  {
   "cell_type": "code",
   "execution_count": 2,
   "id": "8ba42351-296c-47c5-8059-83d99dffdec9",
   "metadata": {},
   "outputs": [],
   "source": [
    "# Parse lines\n",
    "\n",
    "from collections import deque\n",
    "\n",
    "monkeys = []\n",
    "\n",
    "single_monkey_lines = []\n",
    "for line in all_lines:\n",
    "    # Find all lines for single monkey\n",
    "    if line != '':\n",
    "        single_monkey_lines.append(line)\n",
    "    \n",
    "    else:\n",
    "        # Parse data for monkey\n",
    "        \n",
    "        # Monkey ID\n",
    "        monkey_id = int(single_monkey_lines[0][7:-1])\n",
    "        \n",
    "        # Items\n",
    "        items = single_monkey_lines[1][16:].split(', ')\n",
    "        items = deque([int(item) for item in items])\n",
    "        \n",
    "        # Operation\n",
    "        operation_str = single_monkey_lines[2][21:]\n",
    "        if operation_str == '* old':\n",
    "            operator = 'power'\n",
    "            operator_arg = 2\n",
    "        elif operation_str.split(' ')[0] == '*':\n",
    "            operator = 'multiply'\n",
    "            operator_arg = int(operation_str.split(' ')[1])\n",
    "        \n",
    "        elif operation_str.split(' ')[0] == '+':\n",
    "            operator = 'addition'\n",
    "            operator_arg = int(operation_str.split(' ')[1])\n",
    "        \n",
    "        else:\n",
    "            raise ValueError(f'Unrecognized operation: {operation_str}')\n",
    "        \n",
    "        # Test\n",
    "        divisble_by_int = int(single_monkey_lines[3].split(' ')[-1])\n",
    "        throw_to_if_true = int(single_monkey_lines[4].split(' ')[-1])\n",
    "        throw_to_if_false = int(single_monkey_lines[5].split(' ')[-1])\n",
    "        \n",
    "        # Store \n",
    "        monkey_dict = {\n",
    "            'id': monkey_id,\n",
    "            'items': items,\n",
    "            'operator': operator,\n",
    "            'operator_arg': operator_arg,\n",
    "            'divisble_by_int': divisble_by_int,\n",
    "            'throw_to_if_true': throw_to_if_true,\n",
    "            'throw_to_if_false': throw_to_if_false\n",
    "        }\n",
    "        \n",
    "        monkeys.append(monkey_dict)\n",
    "        single_monkey_lines = []\n",
    "    "
   ]
  },
  {
   "cell_type": "code",
   "execution_count": 3,
   "id": "528814da-71d0-4a18-8a25-859f1a837cdb",
   "metadata": {},
   "outputs": [],
   "source": [
    "# Game logic\n",
    "\n",
    "from typing import Any, Dict, List\n",
    "\n",
    "def _calculate_new_worry_level(*, old: int, operator: str, operator_arg: int) -> int:\n",
    "    if operator == 'addition':\n",
    "        return old + operator_arg\n",
    "    elif operator == 'multiply':\n",
    "        return old * operator_arg\n",
    "    elif operator == 'power':\n",
    "        return old**operator_arg\n",
    "    else:\n",
    "        raise ValueError(f'Unrecognized operation: {operator}')\n",
    "\n",
    "\n",
    "def play_round(*, monkeys: List[Dict[str, Any]], monkeys_inspection_count: Dict[int, int],\n",
    "              ) -> List[Dict[str, Any]]:\n",
    "    for monkey in monkeys:\n",
    "        monkey_id = monkey['id']\n",
    "        while monkey['items']:\n",
    "            # Get item\n",
    "            item = monkey['items'].popleft()\n",
    "            \n",
    "            # Increase worry level\n",
    "            item = _calculate_new_worry_level(\n",
    "                old=item, operator=monkey['operator'], operator_arg=monkey['operator_arg'])\n",
    "            \n",
    "            # Relief\n",
    "            item = int(item/3)\n",
    "            \n",
    "            # Test\n",
    "            if item % monkey['divisble_by_int'] == 0:\n",
    "                # Throw to monkey\n",
    "                monkeys[monkey['throw_to_if_true']]['items'].append(item)\n",
    "            \n",
    "            else:\n",
    "                # Throw to monkey\n",
    "                monkeys[monkey['throw_to_if_false']]['items'].append(item)\n",
    "            \n",
    "            # Inspection count\n",
    "            monkeys_inspection_count[monkey_id] = monkeys_inspection_count[monkey_id] + 1\n",
    "        \n",
    "    return monkeys\n",
    "    \n"
   ]
  },
  {
   "cell_type": "code",
   "execution_count": 4,
   "id": "e5e6f53c-fce3-46fc-b6ef-581bafb0356d",
   "metadata": {
    "scrolled": true,
    "tags": []
   },
   "outputs": [
    {
     "name": "stderr",
     "output_type": "stream",
     "text": [
      "100%|█████████████████████████████████████████| 20/20 [00:00<00:00, 9858.51it/s]\n"
     ]
    }
   ],
   "source": [
    "# Play rounds\n",
    "\n",
    "from copy import deepcopy\n",
    "from tqdm import tqdm\n",
    "\n",
    "rounds_monkeys_list = []\n",
    "monkeys_inspection_count = {x: 0 for x in range(len(monkeys))}\n",
    "\n",
    "monkeys_game = deepcopy(monkeys)\n",
    "rounds_monkeys_list.append(monkeys_game)\n",
    "\n",
    "for round_n in tqdm(range(1, 21)):\n",
    "    monkeys_game = play_round(\n",
    "        monkeys=monkeys_game, monkeys_inspection_count=monkeys_inspection_count)\n",
    "    rounds_monkeys_list.append(deepcopy(monkeys_game))\n"
   ]
  },
  {
   "cell_type": "code",
   "execution_count": 5,
   "id": "d689ef8b-c498-4b7c-a97a-dd8f04ca6aac",
   "metadata": {},
   "outputs": [
    {
     "name": "stdout",
     "output_type": "stream",
     "text": [
      "101436\n"
     ]
    }
   ],
   "source": [
    "# Result\n",
    "item_counts = []\n",
    "for m, count in monkeys_inspection_count.items():\n",
    "    item_counts.append(count)\n",
    "    \n",
    "max_count1, max_count2 = sorted(item_counts)[-2:]\n",
    "\n",
    "print(max_count1*max_count2)\n"
   ]
  },
  {
   "cell_type": "markdown",
   "id": "ef2bdb0e-b713-4ef4-bc23-a2b2188a6266",
   "metadata": {},
   "source": [
    "---"
   ]
  },
  {
   "cell_type": "markdown",
   "id": "6478e6dd-2366-4d4b-9a46-adf1e04a4770",
   "metadata": {},
   "source": [
    "## Part 2\n",
    "\n",
    "Worry levels are no longer divided by three after each item is inspected; you'll need to find another way to keep your worry levels manageable. Starting again from the initial state in your puzzle input, what is the level of monkey business after 10000 rounds?\n"
   ]
  },
  {
   "cell_type": "code",
   "execution_count": 6,
   "id": "bac7c7d3-f58c-4f85-9aaa-ade271f8d7a8",
   "metadata": {},
   "outputs": [],
   "source": [
    "# Observation - working with big numbers is very slow ==> an alternative method needs to be used\n",
    "# Since throwing test use division, store only modulo for every item:\n",
    "# -> if mod is 0, then multiplication and power will not change it, similarly the addition\n",
    "# to the original item will have the same mod as addition to the mod of the original item\n"
   ]
  },
  {
   "cell_type": "code",
   "execution_count": 7,
   "id": "5a06e2dd-d746-4225-bead-0fb68b2aa5f9",
   "metadata": {},
   "outputs": [
    {
     "name": "stdout",
     "output_type": "stream",
     "text": [
      "Common denominator 9699690\n"
     ]
    }
   ],
   "source": [
    "# New monkeys list\n",
    "\n",
    "from copy import deepcopy\n",
    "\n",
    "monkeys_part2 = deepcopy(monkeys)\n",
    "\n",
    "# Find common_denominator\n",
    "common_denominator = 1\n",
    "for monkey in monkeys_part2:\n",
    "    common_denominator = common_denominator * monkey['divisble_by_int']\n",
    "print(f'Common denominator {common_denominator}')\n"
   ]
  },
  {
   "cell_type": "code",
   "execution_count": 8,
   "id": "c470b835-9fca-4fed-9960-dbd2ac1c0f87",
   "metadata": {},
   "outputs": [],
   "source": [
    "def play_round_part2(*, monkeys: List[Dict[str, Any]], monkeys_inspection_count: Dict[int, int],\n",
    "                     common_denominator: int) -> List[Dict[str, Any]]:\n",
    "    for monkey in monkeys:\n",
    "        monkey_id = monkey['id']\n",
    "        while monkey['items']:\n",
    "            # Get item\n",
    "            item = monkey['items'].popleft()\n",
    "            \n",
    "            # Increase worry level\n",
    "            item = _calculate_new_worry_level(\n",
    "                old=item, operator=monkey['operator'], operator_arg=monkey['operator_arg'])\n",
    "            \n",
    "            # Test\n",
    "            modified_item = item % common_denominator\n",
    "            if modified_item % monkey['divisble_by_int'] == 0:\n",
    "                # Throw to monkey\n",
    "                monkeys[monkey['throw_to_if_true']]['items'].append(modified_item)\n",
    "            \n",
    "            else:\n",
    "                # Throw to monkey\n",
    "                monkeys[monkey['throw_to_if_false']]['items'].append(modified_item)\n",
    "            \n",
    "            # Inspection count\n",
    "            monkeys_inspection_count[monkey_id] = monkeys_inspection_count[monkey_id] + 1\n",
    "        \n",
    "    return monkeys\n"
   ]
  },
  {
   "cell_type": "code",
   "execution_count": 9,
   "id": "05cb5ee6-c3df-46be-b9be-b20aa74116c0",
   "metadata": {},
   "outputs": [
    {
     "name": "stderr",
     "output_type": "stream",
     "text": [
      "100%|██████████████████████████████████| 10000/10000 [00:00<00:00, 45813.85it/s]\n"
     ]
    }
   ],
   "source": [
    "# Play rounds\n",
    "\n",
    "from copy import deepcopy\n",
    "from tqdm import tqdm\n",
    "\n",
    "monkeys_inspection_count_part2 = {x: 0 for x in range(len(monkeys))}\n",
    "\n",
    "monkeys_game = deepcopy(monkeys)\n",
    "rounds_monkeys_list.append(monkeys_game)\n",
    "\n",
    "N_ROUNDS = 10000\n",
    "\n",
    "for round_n in tqdm(range(1, N_ROUNDS+1)):\n",
    "    monkeys_game = play_round_part2(\n",
    "        monkeys=monkeys_game, monkeys_inspection_count=monkeys_inspection_count_part2,\n",
    "        common_denominator=common_denominator)\n",
    "    "
   ]
  },
  {
   "cell_type": "code",
   "execution_count": 10,
   "id": "f395767f-e3cc-4621-b8c2-16baca5ec91b",
   "metadata": {},
   "outputs": [
    {
     "name": "stdout",
     "output_type": "stream",
     "text": [
      "19754471646\n"
     ]
    }
   ],
   "source": [
    "# Result\n",
    "item_counts = []\n",
    "for m, count in monkeys_inspection_count_part2.items():\n",
    "    item_counts.append(count)\n",
    "    \n",
    "max_count1, max_count2 = sorted(item_counts)[-2:]\n",
    "\n",
    "print(max_count1*max_count2)\n"
   ]
  }
 ],
 "metadata": {
  "kernelspec": {
   "display_name": "jupyterlab",
   "language": "python",
   "name": "jupyterlab"
  },
  "language_info": {
   "codemirror_mode": {
    "name": "ipython",
    "version": 3
   },
   "file_extension": ".py",
   "mimetype": "text/x-python",
   "name": "python",
   "nbconvert_exporter": "python",
   "pygments_lexer": "ipython3",
   "version": "3.10.6"
  }
 },
 "nbformat": 4,
 "nbformat_minor": 5
}
