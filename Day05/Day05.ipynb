{
 "cells": [
  {
   "cell_type": "markdown",
   "id": "76a7b15c-e220-49c2-bac3-6eeb71393967",
   "metadata": {},
   "source": [
    "# Day 5"
   ]
  },
  {
   "cell_type": "markdown",
   "id": "8f1170e9-833c-4c42-aa42-a6f121d02102",
   "metadata": {},
   "source": [
    "## Part 1\n",
    "\n",
    "After the rearrangement procedure completes, what crate ends up on top of each stack?\n"
   ]
  },
  {
   "cell_type": "code",
   "execution_count": 1,
   "id": "951ff29a-86d6-4918-a465-a6eb69f936a6",
   "metadata": {},
   "outputs": [],
   "source": [
    "# Libraries\n",
    "\n",
    "import numpy as np\n",
    "import pandas as pd\n",
    "\n",
    "# Read input file\n",
    "all_lines = []\n",
    "\n",
    "with open('input.txt') as file:\n",
    "    all_lines = [line.rstrip() for line in file]\n"
   ]
  },
  {
   "cell_type": "code",
   "execution_count": 2,
   "id": "b7e708f4-5839-4516-bc1b-b04bbcc8c5ab",
   "metadata": {},
   "outputs": [
    {
     "data": {
      "text/plain": [
       "[' 1   2   3   4   5   6   7   8   9',\n",
       " '[D] [H] [L] [N] [N] [M] [D] [D] [B]',\n",
       " '[T] [R] [Q] [B] [D] [D] [B] [N] [N]',\n",
       " '[W] [P] [V] [S] [F] [B] [Q] [J] [H]',\n",
       " '[F] [Q]     [W] [T] [V] [J] [V] [M]',\n",
       " '[J] [T]     [R] [V] [H]     [R] [S]',\n",
       " '[S] [N]     [Q] [M] [T]     [Z]',\n",
       " '[H] [B]         [B] [R]     [H]',\n",
       " '[N] [G]                     [Q]']"
      ]
     },
     "execution_count": 2,
     "metadata": {},
     "output_type": "execute_result"
    }
   ],
   "source": [
    "# Select starting stack\n",
    "starting_stack = all_lines[0:9][::-1]\n",
    "starting_stack\n"
   ]
  },
  {
   "cell_type": "code",
   "execution_count": 3,
   "id": "dc3a5bea-65e1-4968-a28c-f48c67c26ccd",
   "metadata": {},
   "outputs": [],
   "source": [
    "# Parse starting stack\n",
    "\n",
    "stack_columns_str_idxs = [idx for idx in range(1, 34, 4)]\n",
    "\n",
    "columns_list = []\n",
    "\n",
    "for idx in stack_columns_str_idxs:\n",
    "    # Extract crates\n",
    "    single_column_list = []\n",
    "    for input_row in starting_stack[1:]:\n",
    "        if idx > len(input_row):\n",
    "            continue\n",
    "        single_column_list.append(input_row[idx])\n",
    "    \n",
    "    # Clean crates\n",
    "    single_column_list = ''.join(single_column_list).rstrip()\n",
    "    columns_list.append(single_column_list)\n"
   ]
  },
  {
   "cell_type": "code",
   "execution_count": 4,
   "id": "cdce2b83-9c82-4009-84e9-e6cfe7088641",
   "metadata": {},
   "outputs": [
    {
     "data": {
      "text/plain": [
       "['DTWFJSHN',\n",
       " 'HRPQTNBG',\n",
       " 'LQV',\n",
       " 'NBSWRQ',\n",
       " 'NDFTVMB',\n",
       " 'MDBVHTR',\n",
       " 'DBQJ',\n",
       " 'DNJVRZHQ',\n",
       " 'BNHMS']"
      ]
     },
     "execution_count": 4,
     "metadata": {},
     "output_type": "execute_result"
    }
   ],
   "source": [
    "columns_list"
   ]
  },
  {
   "cell_type": "code",
   "execution_count": null,
   "id": "611cec73-c56b-4330-92e1-e2eb46796dfe",
   "metadata": {},
   "outputs": [],
   "source": []
  },
  {
   "cell_type": "code",
   "execution_count": 5,
   "id": "3293cc01-6727-4feb-986e-25871a9233f4",
   "metadata": {},
   "outputs": [],
   "source": [
    "# Parse instructions\n",
    "instructions_str_list = all_lines[10:]\n",
    "\n",
    "instructions_list = []\n",
    "for line in instructions_str_list:\n",
    "    move_n = int(line.split(' ')[1])\n",
    "    from_col = int(line.split(' ')[3])\n",
    "    to_col = int(line.split(' ')[5])\n",
    "    instructions_list.append({'move_n': move_n, 'from_col': from_col, 'to_col': to_col})\n",
    "    "
   ]
  },
  {
   "cell_type": "code",
   "execution_count": 6,
   "id": "33d620af-4cd6-4287-91d3-76ffbf453015",
   "metadata": {},
   "outputs": [
    {
     "data": {
      "text/plain": [
       "[{'move_n': 3, 'from_col': 1, 'to_col': 2},\n",
       " {'move_n': 1, 'from_col': 7, 'to_col': 1},\n",
       " {'move_n': 1, 'from_col': 6, 'to_col': 5},\n",
       " {'move_n': 5, 'from_col': 5, 'to_col': 9},\n",
       " {'move_n': 2, 'from_col': 5, 'to_col': 2},\n",
       " {'move_n': 1, 'from_col': 6, 'to_col': 8},\n",
       " {'move_n': 1, 'from_col': 5, 'to_col': 7},\n",
       " {'move_n': 5, 'from_col': 4, 'to_col': 6},\n",
       " {'move_n': 1, 'from_col': 7, 'to_col': 6},\n",
       " {'move_n': 1, 'from_col': 2, 'to_col': 4}]"
      ]
     },
     "execution_count": 6,
     "metadata": {},
     "output_type": "execute_result"
    }
   ],
   "source": [
    "instructions_list[0:10]"
   ]
  },
  {
   "cell_type": "code",
   "execution_count": 7,
   "id": "4647eaba-4f97-41a8-994a-240ef3d76f8a",
   "metadata": {},
   "outputs": [],
   "source": [
    "# Movements method\n",
    "\n",
    "from typing import Dict, List\n",
    "\n",
    "def move_crates(*, columns: List[str], instruction: Dict[str, int]) -> List[str]:\n",
    "    # Extract instructions\n",
    "    from_col_idx = instruction['from_col'] - 1\n",
    "    to_col_idx = instruction['to_col'] - 1\n",
    "    move_n = instruction['move_n']\n",
    "\n",
    "    # Lift crates\n",
    "    lifted_crates = columns[from_col_idx][::-1][:move_n]\n",
    "\n",
    "    # Remove crates from sel_column\n",
    "    columns[from_col_idx] = columns[from_col_idx][:-move_n]\n",
    "\n",
    "    # Add crates to new column\n",
    "    columns[to_col_idx] = columns[to_col_idx] + lifted_crates\n",
    "    \n",
    "    return columns\n",
    "    \n"
   ]
  },
  {
   "cell_type": "code",
   "execution_count": 8,
   "id": "3616f3ad-c065-43a1-9f72-dd0786ddacdb",
   "metadata": {},
   "outputs": [],
   "source": [
    "# Perform movements\n",
    "\n",
    "from copy import deepcopy\n",
    "\n",
    "live_columns_list = deepcopy(columns_list)\n",
    "\n",
    "for instruction in instructions_list:\n",
    "    live_columns_list = move_crates(columns=live_columns_list, instruction=instruction)\n",
    "\n"
   ]
  },
  {
   "cell_type": "code",
   "execution_count": 9,
   "id": "72231b3f-f5e4-4b4d-8acf-1d337b01d47a",
   "metadata": {},
   "outputs": [
    {
     "data": {
      "text/plain": [
       "['G',\n",
       " 'R',\n",
       " 'VSTT',\n",
       " 'DNRWS',\n",
       " 'FVBTBJDMW',\n",
       " 'QDBQPQFMVN',\n",
       " 'NJ',\n",
       " 'JBNTLHMDRDHNH',\n",
       " 'NVQRSBBZHQH']"
      ]
     },
     "execution_count": 9,
     "metadata": {},
     "output_type": "execute_result"
    }
   ],
   "source": [
    "live_columns_list"
   ]
  },
  {
   "cell_type": "code",
   "execution_count": 10,
   "id": "aa5a1c4a-35b9-4b50-9a5b-96d53c1cd331",
   "metadata": {},
   "outputs": [
    {
     "name": "stdout",
     "output_type": "stream",
     "text": [
      "GRTSWNJHH\n"
     ]
    }
   ],
   "source": [
    "# Print results\n",
    "result_str = ''\n",
    "for x in live_columns_list:\n",
    "    result_str = result_str + x[-1]\n",
    "    \n",
    "print(result_str)\n"
   ]
  },
  {
   "cell_type": "code",
   "execution_count": null,
   "id": "08e4857c-d235-4f19-a6d0-9ca399809b93",
   "metadata": {},
   "outputs": [],
   "source": []
  },
  {
   "cell_type": "markdown",
   "id": "ef2bdb0e-b713-4ef4-bc23-a2b2188a6266",
   "metadata": {},
   "source": [
    "---"
   ]
  },
  {
   "cell_type": "markdown",
   "id": "6478e6dd-2366-4d4b-9a46-adf1e04a4770",
   "metadata": {},
   "source": [
    "## Part 2\n"
   ]
  },
  {
   "cell_type": "code",
   "execution_count": 11,
   "id": "791891e1-72f2-44c9-a14b-0019c2e1c65a",
   "metadata": {},
   "outputs": [],
   "source": [
    "# Movements method\n",
    "\n",
    "from typing import Dict, List\n",
    "\n",
    "def move_crates_using_CrateMover9001(\n",
    "    *, columns: List[str], instruction: Dict[str, int]) -> List[str]:\n",
    "    # Extract instructions\n",
    "    from_col_idx = instruction['from_col'] - 1\n",
    "    to_col_idx = instruction['to_col'] - 1\n",
    "    move_n = instruction['move_n']\n",
    "\n",
    "    # Lift crates\n",
    "    lifted_crates = columns[from_col_idx][::-1][:move_n][::-1]\n",
    "\n",
    "    # Remove crates from sel_column\n",
    "    columns[from_col_idx] = columns[from_col_idx][:-move_n]\n",
    "\n",
    "    # Add crates to new column\n",
    "    columns[to_col_idx] = columns[to_col_idx] + lifted_crates\n",
    "    \n",
    "    return columns\n",
    "    \n"
   ]
  },
  {
   "cell_type": "code",
   "execution_count": 12,
   "id": "77df0664-edae-46e6-84e2-907808f9839e",
   "metadata": {},
   "outputs": [],
   "source": [
    "# Perform movements\n",
    "\n",
    "from copy import deepcopy\n",
    "\n",
    "live_columns_list = deepcopy(columns_list)\n",
    "\n",
    "for instruction in instructions_list:\n",
    "    live_columns_list = move_crates_using_CrateMover9001(\n",
    "        columns=live_columns_list, instruction=instruction)\n",
    "\n"
   ]
  },
  {
   "cell_type": "code",
   "execution_count": 13,
   "id": "86afc09d-2394-4da2-8e7a-c899208ba142",
   "metadata": {},
   "outputs": [
    {
     "data": {
      "text/plain": [
       "['Q',\n",
       " 'L',\n",
       " 'MHRF',\n",
       " 'STMJQ',\n",
       " 'DSQNVTHWD',\n",
       " 'DJNRHBBFTB',\n",
       " 'NB',\n",
       " 'JPQQNSWRVVTDH',\n",
       " 'RVGDBZHNNBM']"
      ]
     },
     "execution_count": 13,
     "metadata": {},
     "output_type": "execute_result"
    }
   ],
   "source": [
    "live_columns_list"
   ]
  },
  {
   "cell_type": "code",
   "execution_count": 14,
   "id": "330e870b-649d-4626-b879-84aa02c324bc",
   "metadata": {},
   "outputs": [
    {
     "name": "stdout",
     "output_type": "stream",
     "text": [
      "QLFQDBBHM\n"
     ]
    }
   ],
   "source": [
    "# Print results\n",
    "result_str = ''\n",
    "for x in live_columns_list:\n",
    "    result_str = result_str + x[-1]\n",
    "    \n",
    "print(result_str)\n"
   ]
  },
  {
   "cell_type": "code",
   "execution_count": null,
   "id": "d86c1dea-4d25-48bf-8f19-fe1d88de1933",
   "metadata": {},
   "outputs": [],
   "source": []
  },
  {
   "cell_type": "code",
   "execution_count": null,
   "id": "ce80b1d6-0d9b-4792-9df6-414206f41304",
   "metadata": {},
   "outputs": [],
   "source": []
  }
 ],
 "metadata": {
  "kernelspec": {
   "display_name": "jupyterlab",
   "language": "python",
   "name": "jupyterlab"
  },
  "language_info": {
   "codemirror_mode": {
    "name": "ipython",
    "version": 3
   },
   "file_extension": ".py",
   "mimetype": "text/x-python",
   "name": "python",
   "nbconvert_exporter": "python",
   "pygments_lexer": "ipython3",
   "version": "3.10.6"
  }
 },
 "nbformat": 4,
 "nbformat_minor": 5
}
