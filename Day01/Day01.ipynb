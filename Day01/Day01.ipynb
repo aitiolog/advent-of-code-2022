{
 "cells": [
  {
   "cell_type": "markdown",
   "id": "8f1170e9-833c-4c42-aa42-a6f121d02102",
   "metadata": {},
   "source": [
    "Day 01 - Part 1\n",
    "\n",
    "Find the Elf carrying the most Calories. How many total Calories is that Elf carrying?"
   ]
  },
  {
   "cell_type": "code",
   "execution_count": 1,
   "id": "951ff29a-86d6-4918-a465-a6eb69f936a6",
   "metadata": {},
   "outputs": [
    {
     "name": "stdout",
     "output_type": "stream",
     "text": [
      "66306\n"
     ]
    }
   ],
   "source": [
    "# Read input file\n",
    "import numpy as np\n",
    "\n",
    "all_elves_calories_sum = []\n",
    "single_elve_list = []\n",
    "\n",
    "with open('input.txt') as file:\n",
    "    for line in file:\n",
    "        if line == '\\n':\n",
    "            # Sum calories\n",
    "            all_elves_calories_sum.append(np.sum(single_elve_list))\n",
    "            single_elve_list = []\n",
    "        else:\n",
    "            single_elve_list.append(int(line.rstrip()))\n",
    "\n",
    "# Print larges total calories\n",
    "largest_total_calories = sorted(all_elves_calories_sum, reverse=True)[0]\n",
    "print(largest_total_calories)\n"
   ]
  },
  {
   "cell_type": "code",
   "execution_count": null,
   "id": "e20c46f9-db69-431d-ac73-d8f14b7d83f3",
   "metadata": {},
   "outputs": [],
   "source": []
  },
  {
   "cell_type": "markdown",
   "id": "6478e6dd-2366-4d4b-9a46-adf1e04a4770",
   "metadata": {},
   "source": [
    "Day 01 - Part 2\n",
    "\n",
    "Find the top three Elves carrying the most Calories. How many Calories are those Elves carrying in total?"
   ]
  },
  {
   "cell_type": "code",
   "execution_count": 2,
   "id": "842bddf4-3606-476c-a8c1-b05b7590d72b",
   "metadata": {},
   "outputs": [
    {
     "name": "stdout",
     "output_type": "stream",
     "text": [
      "195292\n"
     ]
    }
   ],
   "source": [
    "# Print largest total calories\n",
    "largest_top3_total_calories = np.sum(sorted(all_elves_calories_sum, reverse=True)[0:3])\n",
    "print(largest_top3_total_calories)\n"
   ]
  },
  {
   "cell_type": "code",
   "execution_count": null,
   "id": "8f56cd0e-926e-4b43-a0fb-2170e37a24cc",
   "metadata": {},
   "outputs": [],
   "source": []
  }
 ],
 "metadata": {
  "kernelspec": {
   "display_name": "Python 3",
   "language": "python",
   "name": "python3"
  },
  "language_info": {
   "codemirror_mode": {
    "name": "ipython",
    "version": 3
   },
   "file_extension": ".py",
   "mimetype": "text/x-python",
   "name": "python",
   "nbconvert_exporter": "python",
   "pygments_lexer": "ipython3",
   "version": "3.8.10"
  }
 },
 "nbformat": 4,
 "nbformat_minor": 5
}
