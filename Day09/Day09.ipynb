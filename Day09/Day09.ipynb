{
 "cells": [
  {
   "cell_type": "markdown",
   "id": "76a7b15c-e220-49c2-bac3-6eeb71393967",
   "metadata": {},
   "source": [
    "# Day 9"
   ]
  },
  {
   "cell_type": "markdown",
   "id": "8f1170e9-833c-4c42-aa42-a6f121d02102",
   "metadata": {},
   "source": [
    "## Part 1\n",
    "\n",
    "Head and tail must always be touching. Tail must move one step to remain close enough to the head.\n",
    "\n",
    "How many positions does the tail of the rope visit at least once?\n"
   ]
  },
  {
   "cell_type": "code",
   "execution_count": 1,
   "id": "951ff29a-86d6-4918-a465-a6eb69f936a6",
   "metadata": {},
   "outputs": [],
   "source": [
    "# Read input file\n",
    "all_lines = []\n",
    "\n",
    "with open('input.txt') as file:\n",
    "    all_lines = [line.rstrip() for line in file]\n",
    "    "
   ]
  },
  {
   "cell_type": "code",
   "execution_count": 2,
   "id": "a432bcb6-73bf-4ee2-b359-733201d4170b",
   "metadata": {},
   "outputs": [],
   "source": [
    "# Parse head movements\n",
    "\n",
    "movements = []\n",
    "\n",
    "for line in all_lines:\n",
    "    direction = line.split(' ')[0]\n",
    "    steps = int(line.split(' ')[1])\n",
    "    \n",
    "    for _ in range(steps):\n",
    "        movements.append(direction)\n",
    "    "
   ]
  },
  {
   "cell_type": "code",
   "execution_count": 3,
   "id": "5e54f982-a422-4701-a9fc-553dfa689b9d",
   "metadata": {},
   "outputs": [],
   "source": [
    "# Movements\n",
    "\n",
    "from typing import Tuple\n",
    "\n",
    "def head_movement(*, x: int, y: int, movement: str) -> Tuple[int, int]:\n",
    "    if movement == 'R':\n",
    "        return (x+1, y)\n",
    "    elif movement == 'L':\n",
    "        return (x-1, y)\n",
    "    elif movement == 'U':\n",
    "        return (x, y+1)\n",
    "    elif movement == 'D':\n",
    "        return (x, y-1)\n",
    "    else:\n",
    "        raise ValueError(f'Wrong movement input: {movement}')\n",
    "    \n",
    "    \n",
    "def tail_movement(*, x: int, y: int, x_head: int, y_head: int) -> Tuple[int, int]:\n",
    "    # Calculate distance between head and tail\n",
    "    dist_squared = (x_head - x)**2 + (y_head - y)**2\n",
    "    \n",
    "    # Head and tail touching\n",
    "    if dist_squared <= 2:\n",
    "        return (x, y)\n",
    "    \n",
    "    # Move tail (as it is not touching the head)\n",
    "    if x_head > x:\n",
    "        x = x + 1\n",
    "    if x_head < x:\n",
    "        x = x -1\n",
    "    \n",
    "    if y_head > y:\n",
    "        y = y + 1\n",
    "    if y_head < y:\n",
    "        y = y - 1\n",
    "        \n",
    "    return (x, y)\n"
   ]
  },
  {
   "cell_type": "code",
   "execution_count": 4,
   "id": "6121511a-9b88-4199-b1bd-ade3f58b0172",
   "metadata": {},
   "outputs": [],
   "source": [
    "# Process list\n",
    "\n",
    "x_head = 0\n",
    "y_head = 0\n",
    "x_tail = 0\n",
    "y_tail = 0\n",
    "\n",
    "head_positions = [(x_head, y_head)]\n",
    "tail_positions = [(x_tail, y_tail)]\n",
    "\n",
    "for movement in movements:\n",
    "    (x_head, y_head) = head_movement(x=x_head, y=y_head, movement=movement)\n",
    "    (x_tail, y_tail) = tail_movement(x=x_tail, y=y_tail, x_head=x_head, y_head=y_head)\n",
    "    head_positions.append((x_head, y_head))\n",
    "    tail_positions.append((x_tail, y_tail))\n"
   ]
  },
  {
   "cell_type": "code",
   "execution_count": 5,
   "id": "dbfbbe6c-b2a9-4b90-8ddb-760c0d36dc65",
   "metadata": {},
   "outputs": [
    {
     "name": "stdout",
     "output_type": "stream",
     "text": [
      "6026\n"
     ]
    }
   ],
   "source": [
    "# Tail positions\n",
    "print(len(set(tail_positions)))\n"
   ]
  },
  {
   "cell_type": "markdown",
   "id": "ef2bdb0e-b713-4ef4-bc23-a2b2188a6266",
   "metadata": {},
   "source": [
    "---"
   ]
  },
  {
   "cell_type": "markdown",
   "id": "6478e6dd-2366-4d4b-9a46-adf1e04a4770",
   "metadata": {},
   "source": [
    "## Part 2\n",
    "\n",
    "Simulate your complete series of motions on a larger rope with ten knots. How many positions does the tail of the rope visit at least once?"
   ]
  },
  {
   "cell_type": "code",
   "execution_count": 6,
   "id": "52ebefbc-61d8-4bd2-98ff-860e51dd9402",
   "metadata": {},
   "outputs": [],
   "source": [
    "# Process list using large rope\n",
    "\n",
    "rope_position = [\n",
    "    (0, 0),\n",
    "    (0, 0),\n",
    "    (0, 0),\n",
    "    (0, 0),\n",
    "    (0, 0),\n",
    "    (0, 0),\n",
    "    (0, 0),\n",
    "    (0, 0),\n",
    "    (0, 0),\n",
    "    (0, 0)\n",
    "]\n",
    "\n",
    "tail_positions = [rope_position[-1]]\n",
    "\n",
    "for movement in movements:\n",
    "    # Move head\n",
    "    rope_position[0] = head_movement(\n",
    "        x=rope_position[0][0], \n",
    "        y=rope_position[0][1], \n",
    "        movement=movement)\n",
    "    \n",
    "    # Move tails\n",
    "    for knot_idx in range(1, len(rope_position)):\n",
    "        rope_position[knot_idx] = tail_movement(\n",
    "            x=rope_position[knot_idx][0], \n",
    "            y=rope_position[knot_idx][1], \n",
    "            x_head=rope_position[knot_idx-1][0], \n",
    "            y_head=rope_position[knot_idx-1][1])\n",
    "    \n",
    "    tail_positions.append(rope_position[-1])\n"
   ]
  },
  {
   "cell_type": "code",
   "execution_count": 7,
   "id": "769a0174-c643-42a9-a372-5acf5617d291",
   "metadata": {},
   "outputs": [
    {
     "name": "stdout",
     "output_type": "stream",
     "text": [
      "2273\n"
     ]
    }
   ],
   "source": [
    "# Tail positions\n",
    "print(len(set(tail_positions)))"
   ]
  }
 ],
 "metadata": {
  "kernelspec": {
   "display_name": "jupyterlab",
   "language": "python",
   "name": "jupyterlab"
  },
  "language_info": {
   "codemirror_mode": {
    "name": "ipython",
    "version": 3
   },
   "file_extension": ".py",
   "mimetype": "text/x-python",
   "name": "python",
   "nbconvert_exporter": "python",
   "pygments_lexer": "ipython3",
   "version": "3.10.6"
  }
 },
 "nbformat": 4,
 "nbformat_minor": 5
}
