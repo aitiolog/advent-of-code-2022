{
 "cells": [
  {
   "cell_type": "markdown",
   "id": "76a7b15c-e220-49c2-bac3-6eeb71393967",
   "metadata": {},
   "source": [
    "# Day 10"
   ]
  },
  {
   "cell_type": "markdown",
   "id": "8f1170e9-833c-4c42-aa42-a6f121d02102",
   "metadata": {},
   "source": [
    "## Part 1\n",
    "\n",
    "The CPU has a single register, X, which starts with the value 1. It supports only two instructions:\n",
    "\n",
    "addx V takes two cycles to complete. After two cycles, the X register is increased by the value V. (V can be negative.)\n",
    "noop takes one cycle to complete. It has no other effect.\n",
    "\n",
    "The signal strength is the cycle number multiplied by the value of the X register.\n",
    "\n",
    "Find the signal strength during the 20th, 60th, 100th, 140th, 180th, and 220th cycles. What is the sum of these six signal strengths?\n"
   ]
  },
  {
   "cell_type": "code",
   "execution_count": 1,
   "id": "951ff29a-86d6-4918-a465-a6eb69f936a6",
   "metadata": {},
   "outputs": [],
   "source": [
    "# Libraries\n",
    "\n",
    "import numpy as np\n",
    "import pandas as pd\n",
    "\n",
    "# Read input file\n",
    "all_lines = []\n",
    "\n",
    "with open('input.txt') as file:\n",
    "    all_lines = [line.rstrip() for line in file]\n"
   ]
  },
  {
   "cell_type": "code",
   "execution_count": 2,
   "id": "f7841133-b630-42a6-a631-8c51adcbe5bb",
   "metadata": {},
   "outputs": [],
   "source": [
    "# Process instruction method\n",
    "\n",
    "from typing import Dict, List\n",
    "\n",
    "def process_instruction(*, x_start: int, instruction: str) -> List[Dict[str, int]]:\n",
    "    if instruction == 'noop':\n",
    "        return [{'x_start': x_start, 'x_during': x_start, 'x_end': x_start}]\n",
    "        \n",
    "    \n",
    "    elif 'addx' in instruction:\n",
    "        addx_int = int(instruction.split(' ')[1])\n",
    "        return [\n",
    "            {'x_start': x_start, 'x_during': x_start, 'x_end': x_start},\n",
    "            {'x_start': x_start, 'x_during': x_start, 'x_end': x_start + addx_int},\n",
    "        ]\n",
    "    \n",
    "    else:\n",
    "        raise ValueError(f'Unrecognized instruction: {instruction}')\n",
    "    "
   ]
  },
  {
   "cell_type": "code",
   "execution_count": 3,
   "id": "145b4d4b-c30e-4c79-961d-48a79ccb7061",
   "metadata": {},
   "outputs": [],
   "source": [
    "# Process instructions\n",
    "\n",
    "cycles_list = [{'x_start': 1, 'x_during': 1, 'x_end': 1}]\n",
    "\n",
    "for instruction in all_lines:\n",
    "    x_start = cycles_list[-1]['x_end']\n",
    "    cycles_list.extend(process_instruction(x_start=x_start, instruction=instruction))\n",
    "\n",
    "# Create dataframe\n",
    "cycles_df = pd.DataFrame(cycles_list)\n",
    "    "
   ]
  },
  {
   "cell_type": "code",
   "execution_count": 4,
   "id": "99e02dda-19c1-439c-9c0f-91927328f9b5",
   "metadata": {},
   "outputs": [],
   "source": [
    "# Calculate signal\n",
    "cycles_df['signal'] = cycles_df['x_during'] * cycles_df.index\n"
   ]
  },
  {
   "cell_type": "code",
   "execution_count": 5,
   "id": "f80bd2fc-e522-4bf9-ab32-44cd1c2782b8",
   "metadata": {},
   "outputs": [
    {
     "data": {
      "text/html": [
       "<div>\n",
       "<style scoped>\n",
       "    .dataframe tbody tr th:only-of-type {\n",
       "        vertical-align: middle;\n",
       "    }\n",
       "\n",
       "    .dataframe tbody tr th {\n",
       "        vertical-align: top;\n",
       "    }\n",
       "\n",
       "    .dataframe thead th {\n",
       "        text-align: right;\n",
       "    }\n",
       "</style>\n",
       "<table border=\"1\" class=\"dataframe\">\n",
       "  <thead>\n",
       "    <tr style=\"text-align: right;\">\n",
       "      <th></th>\n",
       "      <th>x_start</th>\n",
       "      <th>x_during</th>\n",
       "      <th>x_end</th>\n",
       "      <th>signal</th>\n",
       "    </tr>\n",
       "  </thead>\n",
       "  <tbody>\n",
       "    <tr>\n",
       "      <th>20</th>\n",
       "      <td>16</td>\n",
       "      <td>16</td>\n",
       "      <td>19</td>\n",
       "      <td>320</td>\n",
       "    </tr>\n",
       "    <tr>\n",
       "      <th>60</th>\n",
       "      <td>21</td>\n",
       "      <td>21</td>\n",
       "      <td>21</td>\n",
       "      <td>1260</td>\n",
       "    </tr>\n",
       "    <tr>\n",
       "      <th>100</th>\n",
       "      <td>17</td>\n",
       "      <td>17</td>\n",
       "      <td>21</td>\n",
       "      <td>1700</td>\n",
       "    </tr>\n",
       "    <tr>\n",
       "      <th>140</th>\n",
       "      <td>21</td>\n",
       "      <td>21</td>\n",
       "      <td>21</td>\n",
       "      <td>2940</td>\n",
       "    </tr>\n",
       "    <tr>\n",
       "      <th>180</th>\n",
       "      <td>21</td>\n",
       "      <td>21</td>\n",
       "      <td>21</td>\n",
       "      <td>3780</td>\n",
       "    </tr>\n",
       "    <tr>\n",
       "      <th>220</th>\n",
       "      <td>21</td>\n",
       "      <td>21</td>\n",
       "      <td>21</td>\n",
       "      <td>4620</td>\n",
       "    </tr>\n",
       "  </tbody>\n",
       "</table>\n",
       "</div>"
      ],
      "text/plain": [
       "     x_start  x_during  x_end  signal\n",
       "20        16        16     19     320\n",
       "60        21        21     21    1260\n",
       "100       17        17     21    1700\n",
       "140       21        21     21    2940\n",
       "180       21        21     21    3780\n",
       "220       21        21     21    4620"
      ]
     },
     "execution_count": 5,
     "metadata": {},
     "output_type": "execute_result"
    }
   ],
   "source": [
    "# Get desired signals\n",
    "cycles_df.loc[\n",
    "    cycles_df.index.isin([20, 60, 100, 140, 180, 220])]\n"
   ]
  },
  {
   "cell_type": "code",
   "execution_count": 6,
   "id": "d9546bf9-2d18-4506-a8a1-3adf3e664ef4",
   "metadata": {},
   "outputs": [
    {
     "data": {
      "text/plain": [
       "14620"
      ]
     },
     "execution_count": 6,
     "metadata": {},
     "output_type": "execute_result"
    }
   ],
   "source": [
    "# Print result\n",
    "cycles_df.loc[\n",
    "    cycles_df.index.isin([20, 60, 100, 140, 180, 220])]['signal'].sum()"
   ]
  },
  {
   "cell_type": "markdown",
   "id": "ef2bdb0e-b713-4ef4-bc23-a2b2188a6266",
   "metadata": {},
   "source": [
    "---"
   ]
  },
  {
   "cell_type": "markdown",
   "id": "6478e6dd-2366-4d4b-9a46-adf1e04a4770",
   "metadata": {},
   "source": [
    "## Part 2\n",
    "\n",
    "The X register controls the horizontal position of a sprite. Specifically, the sprite is 3 pixels wide, and the X register sets the horizontal position of the middle of that sprite.\n"
   ]
  },
  {
   "cell_type": "raw",
   "id": "9948f972-eda9-421b-91f8-7f5ebb53831d",
   "metadata": {},
   "source": [
    "Cycle   1 -> ######################################## <- Cycle  40\n",
    "Cycle  41 -> ######################################## <- Cycle  80\n",
    "Cycle  81 -> ######################################## <- Cycle 120\n",
    "Cycle 121 -> ######################################## <- Cycle 160\n",
    "Cycle 161 -> ######################################## <- Cycle 200\n",
    "Cycle 201 -> ######################################## <- Cycle 240"
   ]
  },
  {
   "cell_type": "code",
   "execution_count": 7,
   "id": "0ea5d7a6-87af-4ab8-8904-841f40015efb",
   "metadata": {},
   "outputs": [],
   "source": [
    "# Iterate through cycles\n",
    "image_values = []\n",
    "\n",
    "for y in range(0, 6):\n",
    "    for x in range(1, 41):\n",
    "        cycle_value = 40*y + x\n",
    "        sprite_position = cycles_df.iloc[cycle_value]['x_during']\n",
    "        \n",
    "        if abs(sprite_position - (x-1)) <= 1:\n",
    "            image_values.append('#')\n",
    "        else:\n",
    "            image_values.append('.')\n"
   ]
  },
  {
   "cell_type": "code",
   "execution_count": 8,
   "id": "c6fa45f4-6939-4b04-bc29-5db75e4c975c",
   "metadata": {},
   "outputs": [
    {
     "name": "stdout",
     "output_type": "stream",
     "text": [
      "###....##.####.###..#..#.###..####.#..#.\n",
      "#..#....#.#....#..#.#..#.#..#.#....#..#.\n",
      "###.....#.###..#..#.####.#..#.###..#..#.\n",
      "#..#....#.#....###..#..#.###..#....#..#.\n",
      "#..#.#..#.#....#.#..#..#.#.#..#....#..#.\n",
      "###...##..#....#..#.#..#.#..#.#.....##..\n"
     ]
    }
   ],
   "source": [
    "# Screen limits\n",
    "screen_limits = [x for x in range(0, 241, 40)]\n",
    "\n",
    "# Print image\n",
    "for row_start, row_end in zip(screen_limits[:-1], screen_limits[1:]):\n",
    "    print(''.join(image_values[row_start:row_end]))\n"
   ]
  },
  {
   "cell_type": "raw",
   "id": "3d08df13-29e9-4955-85eb-5f91e75791dd",
   "metadata": {},
   "source": [
    "Result:\n",
    "BJFRHRFU"
   ]
  }
 ],
 "metadata": {
  "kernelspec": {
   "display_name": "jupyterlab",
   "language": "python",
   "name": "jupyterlab"
  },
  "language_info": {
   "codemirror_mode": {
    "name": "ipython",
    "version": 3
   },
   "file_extension": ".py",
   "mimetype": "text/x-python",
   "name": "python",
   "nbconvert_exporter": "python",
   "pygments_lexer": "ipython3",
   "version": "3.10.6"
  }
 },
 "nbformat": 4,
 "nbformat_minor": 5
}
