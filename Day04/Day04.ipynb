{
 "cells": [
  {
   "cell_type": "markdown",
   "id": "76a7b15c-e220-49c2-bac3-6eeb71393967",
   "metadata": {},
   "source": [
    "# Day 4"
   ]
  },
  {
   "cell_type": "markdown",
   "id": "8f1170e9-833c-4c42-aa42-a6f121d02102",
   "metadata": {},
   "source": [
    "## Part 1\n",
    "\n",
    "A big list of the section assignments for each pair (your puzzle input). Some of the pairs have noticed that one of their assignments fully contains the other.\n",
    "\n",
    "In how many assignment pairs does one range fully contain the other?\n"
   ]
  },
  {
   "cell_type": "code",
   "execution_count": 1,
   "id": "951ff29a-86d6-4918-a465-a6eb69f936a6",
   "metadata": {},
   "outputs": [],
   "source": [
    "# Libraries\n",
    "\n",
    "import numpy as np\n",
    "import pandas as pd\n",
    "\n",
    "# Read input file\n",
    "all_lines = []\n",
    "\n",
    "with open('input.txt') as file:\n",
    "    all_lines = [line.rstrip().split(' ') for line in file]\n",
    "\n",
    "# Create dataframe\n",
    "input_df = pd.DataFrame(all_lines)\n"
   ]
  },
  {
   "cell_type": "code",
   "execution_count": 2,
   "id": "d307f34e-8009-47a8-88e7-ac6fd5aca9bd",
   "metadata": {},
   "outputs": [],
   "source": [
    "# Process input\n",
    "\n",
    "from typing import List\n",
    "\n",
    "def get_id_range_from_input(*, input_str: str) -> List[int]:\n",
    "    id_str_list = input_str.split(',')\n",
    "    id_range_list = []\n",
    "    for id_str in id_str_list:\n",
    "        id_list = id_str.split('-')\n",
    "        id_list = [int(x) for x in id_list]\n",
    "        id_range_list.extend(id_list)\n",
    "    \n",
    "    return id_range_list\n",
    "\n",
    "# Process dataframe\n",
    "part1_df = input_df.copy()\n",
    "\n",
    "elf_id_ranges_df = part1_df.apply(\n",
    "    lambda x: get_id_range_from_input(input_str=x[0]), axis=1, result_type='expand')\n",
    "elf_id_ranges_df.columns = ['elf1_start', 'elf1_end', 'elf2_start', 'elf2_end']\n"
   ]
  },
  {
   "cell_type": "code",
   "execution_count": 15,
   "id": "735c2ee9-af6d-44f6-8b44-b363622db572",
   "metadata": {},
   "outputs": [],
   "source": [
    "# Find fully overlaping ranges\n",
    "\n",
    "from typing import Optional\n",
    "\n",
    "def find_full_overlap(*, elf1_start, elf1_end, elf2_start, elf2_end) -> Optional[bool]:\n",
    "    if elf1_start < elf2_start:\n",
    "        if elf1_end >= elf2_end:\n",
    "            return True\n",
    "        else:\n",
    "            return False\n",
    "    \n",
    "    elif elf2_start < elf1_start:\n",
    "        if elf2_end >= elf1_end:\n",
    "            return True\n",
    "        else:\n",
    "            return False\n",
    "    \n",
    "    elif elf1_start == elf2_start:\n",
    "        return True\n",
    "    \n",
    "    else:\n",
    "        return None\n",
    "    \n",
    "\n",
    "def find_full_overlap_method2(*, elf1_start, elf1_end, elf2_start, elf2_end) -> Optional[bool]:\n",
    "    return ((elf1_start <= elf2_start <= elf2_end <= elf1_end) or \n",
    "            (elf2_start <= elf1_start <= elf1_end <= elf2_end))\n",
    "    \n",
    "\n",
    "elf_id_ranges_df['full_overlap'] = elf_id_ranges_df.apply(\n",
    "    lambda x: find_full_overlap(\n",
    "        elf1_start=x['elf1_start'], elf1_end=x['elf1_end'], \n",
    "        elf2_start=x['elf2_start'], elf2_end=x['elf2_end']), axis=1)\n",
    "\n",
    "elf_id_ranges_df['full_overlap_method2'] = elf_id_ranges_df.apply(\n",
    "    lambda x: find_full_overlap_method2(\n",
    "        elf1_start=x['elf1_start'], elf1_end=x['elf1_end'], \n",
    "        elf2_start=x['elf2_start'], elf2_end=x['elf2_end']), axis=1)\n",
    "\n"
   ]
  },
  {
   "cell_type": "code",
   "execution_count": 16,
   "id": "b30a6762-f242-4141-aab7-1b575da69f5c",
   "metadata": {},
   "outputs": [
    {
     "data": {
      "text/plain": [
       "580"
      ]
     },
     "execution_count": 16,
     "metadata": {},
     "output_type": "execute_result"
    }
   ],
   "source": [
    "# Print result\n",
    "elf_id_ranges_df['full_overlap'].sum()\n"
   ]
  },
  {
   "cell_type": "code",
   "execution_count": 17,
   "id": "bb3eea04-7dac-4b64-8ffa-34120d6131fe",
   "metadata": {},
   "outputs": [
    {
     "data": {
      "text/plain": [
       "580"
      ]
     },
     "execution_count": 17,
     "metadata": {},
     "output_type": "execute_result"
    }
   ],
   "source": [
    "# Print results\n",
    "elf_id_ranges_df['full_overlap_method2'].sum()"
   ]
  },
  {
   "cell_type": "code",
   "execution_count": null,
   "id": "611cec73-c56b-4330-92e1-e2eb46796dfe",
   "metadata": {},
   "outputs": [],
   "source": []
  },
  {
   "cell_type": "markdown",
   "id": "ef2bdb0e-b713-4ef4-bc23-a2b2188a6266",
   "metadata": {},
   "source": [
    "---"
   ]
  },
  {
   "cell_type": "markdown",
   "id": "6478e6dd-2366-4d4b-9a46-adf1e04a4770",
   "metadata": {},
   "source": [
    "## Part 2\n",
    "\n",
    "In how many assignment pairs do the ranges overlap?\n"
   ]
  },
  {
   "cell_type": "code",
   "execution_count": 18,
   "id": "cc556bbe-ba7d-4672-b37c-28a319a9cfa7",
   "metadata": {},
   "outputs": [],
   "source": [
    "# Dataframe\n",
    "part2_df = input_df.copy()\n",
    "elf_id_ranges_df = part2_df.apply(\n",
    "    lambda x: get_id_range_from_input(input_str=x[0]), axis=1, result_type='expand')\n",
    "elf_id_ranges_df.columns = ['elf1_start', 'elf1_end', 'elf2_start', 'elf2_end']\n"
   ]
  },
  {
   "cell_type": "code",
   "execution_count": 25,
   "id": "9883446e-2096-419e-9072-11f2b0ccbe23",
   "metadata": {},
   "outputs": [],
   "source": [
    "# Find any overlap\n",
    "\n",
    "def find_any_overlap(*, elf1_start, elf1_end, elf2_start, elf2_end) -> Optional[bool]:\n",
    "    if elf1_start < elf2_start:\n",
    "        if elf1_end >= elf2_start:\n",
    "            return True\n",
    "        else:\n",
    "            return False\n",
    "    \n",
    "    elif elf2_start < elf1_start:\n",
    "        if elf2_end >= elf1_start:\n",
    "            return True\n",
    "        else:\n",
    "            return False\n",
    "    \n",
    "    elif elf1_start == elf2_start:\n",
    "        return True\n",
    "    \n",
    "    else:\n",
    "        return None\n",
    "\n",
    "    \n",
    "elf_id_ranges_df['any_overlap'] = elf_id_ranges_df.apply(\n",
    "    lambda x: find_any_overlap(\n",
    "        elf1_start=x['elf1_start'], elf1_end=x['elf1_end'], \n",
    "        elf2_start=x['elf2_start'], elf2_end=x['elf2_end']), axis=1)\n"
   ]
  },
  {
   "cell_type": "code",
   "execution_count": 26,
   "id": "6e634820-ff13-4ce9-9f4a-75d2d7d7e84e",
   "metadata": {},
   "outputs": [
    {
     "data": {
      "text/plain": [
       "895"
      ]
     },
     "execution_count": 26,
     "metadata": {},
     "output_type": "execute_result"
    }
   ],
   "source": [
    "elf_id_ranges_df['any_overlap'].sum()"
   ]
  },
  {
   "cell_type": "code",
   "execution_count": null,
   "id": "8f56cd0e-926e-4b43-a0fb-2170e37a24cc",
   "metadata": {},
   "outputs": [],
   "source": []
  }
 ],
 "metadata": {
  "kernelspec": {
   "display_name": "jupyterlab",
   "language": "python",
   "name": "jupyterlab"
  },
  "language_info": {
   "codemirror_mode": {
    "name": "ipython",
    "version": 3
   },
   "file_extension": ".py",
   "mimetype": "text/x-python",
   "name": "python",
   "nbconvert_exporter": "python",
   "pygments_lexer": "ipython3",
   "version": "3.10.6"
  }
 },
 "nbformat": 4,
 "nbformat_minor": 5
}
