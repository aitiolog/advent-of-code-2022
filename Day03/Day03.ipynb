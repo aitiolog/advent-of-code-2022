{
 "cells": [
  {
   "cell_type": "markdown",
   "id": "76a7b15c-e220-49c2-bac3-6eeb71393967",
   "metadata": {},
   "source": [
    "# Day 3"
   ]
  },
  {
   "cell_type": "markdown",
   "id": "8f1170e9-833c-4c42-aa42-a6f121d02102",
   "metadata": {},
   "source": [
    "## Part 1\n",
    "\n",
    "Each rucksack has two large compartments. All items of a given type are meant to go into exactly one of the two compartments.\n",
    "\n",
    "Every item type is identified by a single lowercase or uppercase letter (that is, a and A refer to different types of items).\n",
    "\n",
    "The list of items for each rucksack is given as characters all on a single line. A given rucksack always has the same number of items in each of its two compartments, so the first half of the characters represent items in the first compartment, while the second half of the characters represent items in the second compartment.\n",
    "\n",
    "Every item type can be converted to a priority:\n",
    "\n",
    "* Lowercase item types a through z have priorities 1 through 26.\n",
    "* Uppercase item types A through Z have priorities 27 through 52.\n",
    "\n",
    "Find the item type that appears in both compartments of each rucksack. What is the sum of the priorities of those item types?"
   ]
  },
  {
   "cell_type": "code",
   "execution_count": 1,
   "id": "951ff29a-86d6-4918-a465-a6eb69f936a6",
   "metadata": {},
   "outputs": [],
   "source": [
    "# Libraries\n",
    "\n",
    "import numpy as np\n",
    "import pandas as pd\n",
    "\n",
    "# Read input file\n",
    "all_lines = []\n",
    "\n",
    "with open('input.txt') as file:\n",
    "    all_lines = [line.rstrip().split(' ') for line in file]\n",
    "\n",
    "# Create dataframe\n",
    "input_df = pd.DataFrame(all_lines)\n"
   ]
  },
  {
   "cell_type": "code",
   "execution_count": 2,
   "id": "401e8f46-ecc6-489b-b0ca-0832cf098284",
   "metadata": {},
   "outputs": [],
   "source": [
    "# Priorities mapping\n",
    "\n",
    "from string import ascii_lowercase, ascii_uppercase\n",
    "\n",
    "priorities_dict = {}\n",
    "\n",
    "start_idx = len(priorities_dict)\n",
    "for idx, letter in enumerate(ascii_lowercase):\n",
    "    priorities_dict[letter] = start_idx + idx + 1\n",
    "\n",
    "start_idx = len(priorities_dict)\n",
    "for idx, letter in enumerate(ascii_uppercase):\n",
    "    priorities_dict[letter] = start_idx + idx + 1\n"
   ]
  },
  {
   "cell_type": "code",
   "execution_count": 3,
   "id": "5f2cb21b-d8e1-47b7-8969-b3bd7f712541",
   "metadata": {},
   "outputs": [],
   "source": [
    "# Helper methods\n",
    "\n",
    "from typing import List\n",
    "\n",
    "def split_string_in_halves(*, input_str: str) -> List[str]:\n",
    "    mid_point = int(len(input_str)/2)\n",
    "    return [input_str[:mid_point], input_str[mid_point:]]\n",
    "\n",
    "\n",
    "def intersection_of_two_lists(*, list1: List[str], list2: List[str]) -> List[str]:\n",
    "    return list(set(list1).intersection(set(list2)))\n"
   ]
  },
  {
   "cell_type": "code",
   "execution_count": null,
   "id": "3b501f8b-ba0a-4650-be7f-e18b7cb22f76",
   "metadata": {},
   "outputs": [],
   "source": []
  },
  {
   "cell_type": "code",
   "execution_count": 4,
   "id": "adb4a53f-a098-44df-99f4-699300c8522b",
   "metadata": {},
   "outputs": [],
   "source": [
    "# Part 1 - processing\n",
    "part1_df = input_df.copy()\n",
    "part1_df.columns = ['rucksack']\n",
    "\n",
    "# Compartments\n",
    "compartments_df = part1_df.apply(\n",
    "    lambda x: split_string_in_halves(input_str=x['rucksack']), result_type='expand', axis=1)\n",
    "compartments_df.columns = ['1st_compartment', '2nd_compartment']\n",
    "part1_df = pd.concat([part1_df, compartments_df], axis=1)\n",
    "\n",
    "# Find common elements in compartments\n",
    "part1_df['common_items'] = part1_df.apply(\n",
    "    lambda x: intersection_of_two_lists(\n",
    "        list1=x['1st_compartment'], list2=x['2nd_compartment']), axis=1)\n"
   ]
  },
  {
   "cell_type": "code",
   "execution_count": 5,
   "id": "11067b9c-3432-410f-8076-0d6d872942c7",
   "metadata": {},
   "outputs": [
    {
     "data": {
      "text/plain": [
       "1    300\n",
       "Name: common_items, dtype: int64"
      ]
     },
     "execution_count": 5,
     "metadata": {},
     "output_type": "execute_result"
    }
   ],
   "source": [
    "# Check length of common items\n",
    "part1_df['common_items'].apply(len).value_counts(dropna=False)\n"
   ]
  },
  {
   "cell_type": "code",
   "execution_count": 6,
   "id": "6fbcda0d-c688-4ccb-9c55-8ef152894b13",
   "metadata": {},
   "outputs": [],
   "source": [
    "# Extract first element from common items\n",
    "part1_df['1st_common_item'] = part1_df['common_items'].explode()\n"
   ]
  },
  {
   "cell_type": "code",
   "execution_count": 7,
   "id": "44c9fecf-a614-4a02-a0bf-d0d0d8f17f30",
   "metadata": {},
   "outputs": [],
   "source": [
    "# Item priorities\n",
    "part1_df['1st_common_item_priority'] = part1_df['1st_common_item'].apply(\n",
    "    lambda x: priorities_dict[x])\n"
   ]
  },
  {
   "cell_type": "code",
   "execution_count": 8,
   "id": "1c3f096b-5528-49b9-98f7-a32c703c57c0",
   "metadata": {},
   "outputs": [
    {
     "data": {
      "text/plain": [
       "7908"
      ]
     },
     "execution_count": 8,
     "metadata": {},
     "output_type": "execute_result"
    }
   ],
   "source": [
    "# Print sum of priorities\n",
    "part1_df['1st_common_item_priority'].sum()\n"
   ]
  },
  {
   "cell_type": "code",
   "execution_count": null,
   "id": "611cec73-c56b-4330-92e1-e2eb46796dfe",
   "metadata": {},
   "outputs": [],
   "source": []
  },
  {
   "cell_type": "markdown",
   "id": "ef2bdb0e-b713-4ef4-bc23-a2b2188a6266",
   "metadata": {},
   "source": [
    "---"
   ]
  },
  {
   "cell_type": "markdown",
   "id": "6478e6dd-2366-4d4b-9a46-adf1e04a4770",
   "metadata": {},
   "source": [
    "## Part 2\n",
    "\n",
    "Every set of three lines in your list corresponds to a single group, but each group can have a different badge item type.\n",
    "\n",
    "Find the item type that corresponds to the badges of each three-Elf group. What is the sum of the priorities of those item types?\n"
   ]
  },
  {
   "cell_type": "code",
   "execution_count": 9,
   "id": "cc556bbe-ba7d-4672-b37c-28a319a9cfa7",
   "metadata": {},
   "outputs": [],
   "source": [
    "# Dataframe\n",
    "part2_df = input_df.copy()\n",
    "part2_df.columns = ['rucksack']\n"
   ]
  },
  {
   "cell_type": "code",
   "execution_count": 10,
   "id": "79e91b68-0c51-4f43-b219-f6e533bb149f",
   "metadata": {},
   "outputs": [],
   "source": [
    "# Split into groups of three\n",
    "split_groups_idx_list = [idx for idx in range(0, len(part2_df)+1, 3)]\n",
    "\n",
    "grouped_rucksacks_list = []\n",
    "for idx_start, idx_end in zip(split_groups_idx_list[:-1], split_groups_idx_list[1:]):\n",
    "    grouped_rucksacks_list.append(part2_df['rucksack'].iloc[idx_start:idx_end].to_list())\n",
    "\n",
    "grouped_rucksacks_df = pd.DataFrame(grouped_rucksacks_list)\n"
   ]
  },
  {
   "cell_type": "code",
   "execution_count": 11,
   "id": "c5a95265-c3b8-4c70-82f4-da55bc444969",
   "metadata": {},
   "outputs": [],
   "source": [
    "# Find common items\n",
    "\n",
    "def intersection_of_three_lists(\n",
    "    *, list1: List[str], list2: List[str], list3: List[str]) -> List[str]:\n",
    "    return list(set(list1).intersection(set(list2)).intersection(set(list3)))\n",
    "\n",
    "# Find common elements in compartments\n",
    "grouped_rucksacks_df['common_items'] = grouped_rucksacks_df.apply(\n",
    "    lambda x: intersection_of_three_lists(\n",
    "        list1=x[0], list2=x[1], list3=x[2]), axis=1)\n"
   ]
  },
  {
   "cell_type": "code",
   "execution_count": 12,
   "id": "83b5869f-3e86-4947-8f33-1dbc07c722ea",
   "metadata": {},
   "outputs": [
    {
     "data": {
      "text/plain": [
       "1    100\n",
       "Name: common_items, dtype: int64"
      ]
     },
     "execution_count": 12,
     "metadata": {},
     "output_type": "execute_result"
    }
   ],
   "source": [
    "# Check length of common items\n",
    "grouped_rucksacks_df['common_items'].apply(len).value_counts(dropna=False)\n"
   ]
  },
  {
   "cell_type": "code",
   "execution_count": 13,
   "id": "f9fe7fa9-99b2-4842-aec1-e1a6dfbd750d",
   "metadata": {},
   "outputs": [],
   "source": [
    "# Extract first element from common items\n",
    "grouped_rucksacks_df['1st_common_item'] = grouped_rucksacks_df['common_items'].explode()\n"
   ]
  },
  {
   "cell_type": "code",
   "execution_count": 14,
   "id": "9922c53b-83dd-4571-bd41-6a6a41d5a43c",
   "metadata": {},
   "outputs": [],
   "source": [
    "# Item priorities\n",
    "grouped_rucksacks_df['1st_common_item_priority'] = \\\n",
    "    grouped_rucksacks_df['1st_common_item'].apply(\n",
    "    lambda x: priorities_dict[x])\n"
   ]
  },
  {
   "cell_type": "code",
   "execution_count": 15,
   "id": "120f9154-68ae-49ff-b421-f7c39a970a6f",
   "metadata": {},
   "outputs": [
    {
     "data": {
      "text/plain": [
       "2838"
      ]
     },
     "execution_count": 15,
     "metadata": {},
     "output_type": "execute_result"
    }
   ],
   "source": [
    "# Print sum of priorities\n",
    "grouped_rucksacks_df['1st_common_item_priority'].sum()\n"
   ]
  },
  {
   "cell_type": "code",
   "execution_count": null,
   "id": "ebc8771d-02c8-428a-811c-16dc41d42a9f",
   "metadata": {},
   "outputs": [],
   "source": []
  },
  {
   "cell_type": "code",
   "execution_count": null,
   "id": "8f56cd0e-926e-4b43-a0fb-2170e37a24cc",
   "metadata": {},
   "outputs": [],
   "source": []
  }
 ],
 "metadata": {
  "kernelspec": {
   "display_name": "jupyterlab",
   "language": "python",
   "name": "jupyterlab"
  },
  "language_info": {
   "codemirror_mode": {
    "name": "ipython",
    "version": 3
   },
   "file_extension": ".py",
   "mimetype": "text/x-python",
   "name": "python",
   "nbconvert_exporter": "python",
   "pygments_lexer": "ipython3",
   "version": "3.10.6"
  }
 },
 "nbformat": 4,
 "nbformat_minor": 5
}
